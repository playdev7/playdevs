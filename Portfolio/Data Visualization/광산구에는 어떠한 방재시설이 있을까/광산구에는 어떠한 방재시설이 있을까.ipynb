{
 "cells": [
  {
   "attachments": {},
   "cell_type": "markdown",
   "id": "da67bd17",
   "metadata": {},
   "source": [
    "# 광산구에는 어떠한 방재시설이 있을까?\n",
    "---   \n",
    "***Last Edit - May 19. 2023. Dohyeon Kwon.***  \n",
    "<br>\n",
    "공공데이터를 활용하여 광주광역시 광산구에 설치된 방재시설의 설치 현황을 시각화 해보는 프로젝트.  \n"
   ]
  },
  {
   "attachments": {},
   "cell_type": "markdown",
   "id": "a45da899",
   "metadata": {},
   "source": [
    "## 개요\n",
    "다가오는 장마철에 폭우, 태풍 등 재해에 대비할 수 있는 방재시설의 설치 현황이 궁금하여 이번 프로젝트를 진행합니다.  \n",
    "현재 데이터는 광주광역시 광산구와 관련한 데이터이지만, 광주광역시 또는 다른 도시에서도 방재시설은 중요합니다.  \n",
    "따라서, 향후 추가 데이터와 함께 데이터 전처리만 된다면 충분히 활용할 수 있도록 시각화 해 보고자 합니다.\n",
    "\n",
    "## 활용 기술 \n",
    "다음과 같은 기술을 활용합니다.\n",
    "- Python\n",
    "- Pandas\n",
    "- Matplotlib\n",
    "- Seaborn\n",
    "\n",
    "## 자료 출처\n",
    "공공데이터포털의 [광주광역시_광산구_방재시설물](https://www.data.go.kr/data/15044860/fileData.do) 자료를 활용합니다.  \n",
    "분석하는 데이터는 2022년 12월 31일을 기준으로 최종 업데이트 되었습니다."
   ]
  },
  {
   "attachments": {},
   "cell_type": "markdown",
   "id": "be23383a",
   "metadata": {},
   "source": [
    "## 목차 \n",
    "i. [데이터 구조 파악](#데이터-구조-파악)  \n",
    "ii. [데이터 전처리](#데이터-전처리)  \n",
    "iii. [데이터 시각화 - 행정구역별 방재시설 설치 현황](#데이터-시각화---행정구역별-방재시설-설치-현황)  "
   ]
  },
  {
   "attachments": {},
   "cell_type": "markdown",
   "id": "a29ff18a",
   "metadata": {},
   "source": [
    "## 데이터 구조 파악"
   ]
  },
  {
   "attachments": {},
   "cell_type": "markdown",
   "id": "59477665",
   "metadata": {},
   "source": [
    "공공데이터포털에서 제공하는 컬럼정의서를 통해 시각화를 진행할 컬럼에 대해 확인한 결과입니다.  \n",
    "시각화를 진행할 데이터는 다음과 같은 컬럼으로 구성되어 있음을 확인 할 수 있습니다.\n",
    "| 항목명 | 항목설명 |\n",
    "|:-----|:-------:|\n",
    "| 연번 | 방재시설물의 일련번호 |\n",
    "| 구분 | 방재시설물의 종류 구분 |\n",
    "| 시설명칭 | 방재시설물의 명칭 |\n",
    "| 주소 | 방재시설물 소재지 주소 |\n",
    "| 위도 | 방재시설물의 위치정보(위도) |\n",
    "| 경도 | 방재시설물의 위치정보(경도) |\n",
    "| 데이터기준일 | 방재시설물 데이터의 작성일자 |"
   ]
  },
  {
   "attachments": {},
   "cell_type": "markdown",
   "id": "71039769",
   "metadata": {},
   "source": [
    "현재의 데이터 분석 목표는 일련번호가 중요하지 않으므로 \"연번\" 컬럼은 크게 의미가 없습니다.  \n",
    "\"주소\" 컬럼 또한 \"위도\"와 \"경도\"가 주어지므로 크게 의미가 없습니다.  "
   ]
  },
  {
   "attachments": {},
   "cell_type": "markdown",
   "id": "47613bd1",
   "metadata": {},
   "source": [
    "데이터 파일을 Pandas 데이터프레임으로 불러와서 분석과 전처리를 진행하겠습니다.  \n",
    "위의 컬럼정의서와 Pandas 데이터프레임의 컬럼이 일치합니다.  \n",
    "**모든 컬럼에 대해 결측치가 없는 행이 258개로 동일함을 확인할 수 있습니다.**  \n",
    "Dtype 또한 \"위도\" 와 \"경도\" 가 실수로서 주어짐을 확인하였습니다.  "
   ]
  },
  {
   "cell_type": "code",
   "execution_count": 1,
   "id": "714acba3",
   "metadata": {},
   "outputs": [
    {
     "name": "stdout",
     "output_type": "stream",
     "text": [
      "데이터프레임 정보\n",
      "<class 'pandas.core.frame.DataFrame'>\n",
      "RangeIndex: 258 entries, 0 to 257\n",
      "Data columns (total 7 columns):\n",
      " #   Column   Non-Null Count  Dtype  \n",
      "---  ------   --------------  -----  \n",
      " 0   연번       258 non-null    int64  \n",
      " 1   구분       258 non-null    object \n",
      " 2   시설명칭     258 non-null    object \n",
      " 3   주소       258 non-null    object \n",
      " 4   위도       258 non-null    float64\n",
      " 5   경도       258 non-null    float64\n",
      " 6   데이터기준일자  258 non-null    object \n",
      "dtypes: float64(2), int64(1), object(4)\n",
      "memory usage: 14.2+ KB\n"
     ]
    }
   ],
   "source": [
    "# 필요한 라이브러리 import\n",
    "import pandas as pd\n",
    "import matplotlib.pyplot as plt\n",
    "import seaborn as sns\n",
    "\n",
    "# matplotlib 및 seaborn 한글 출력 불가 관련 폰트 조치\n",
    "# macOS 대응\n",
    "# plt.rc('font', family=\"AppleGothic\")\n",
    "# Windows 대응\n",
    "plt.rc('font', family=\"Malgun Gothic\")\n",
    "\n",
    "\n",
    "# Pandas를 통해 DataFrame 으로 만든 다음 분석\n",
    "safers = pd.read_csv(\"./광주광역시_광산구_방재시설물_20221231.csv\")\n",
    "\n",
    "print(\"데이터프레임 정보\")\n",
    "safers.info()"
   ]
  },
  {
   "attachments": {},
   "cell_type": "markdown",
   "id": "556dd942",
   "metadata": {},
   "source": [
    "데이터프레임에 대해 추가로 더 분석을 진행한 결과 다음과 같습니다.  \n",
    "\"데이터기준일자\" 컬럼은 \"2022.12.31\" 로 모두 동일한 값을 가졌음을 확인할 수 있습니다.  \n",
    "258개의 행을 가졌음을 확인할 수 있습니다.  \n",
    "실제로 결측치가 전혀 없음을 추가로 확인하였습니다.  "
   ]
  },
  {
   "cell_type": "code",
   "execution_count": 2,
   "id": "1fc78bb4",
   "metadata": {},
   "outputs": [
    {
     "name": "stdout",
     "output_type": "stream",
     "text": [
      "데이터기준일자:  ['2022.12.31']\n",
      "데이터프레임의 크기: (258, 7)\n",
      "결측치가 존재하는 행:  0\n"
     ]
    }
   ],
   "source": [
    "print(\"데이터기준일자: \", safers[\"데이터기준일자\"].unique())\n",
    "print(\"데이터프레임의 크기:\", safers.shape)\n",
    "print(\"결측치가 존재하는 행: \", safers.isnull().sum().sum())"
   ]
  },
  {
   "attachments": {},
   "cell_type": "markdown",
   "id": "d0375a1d",
   "metadata": {},
   "source": [
    "마지막으로, 모든 데이터가 광산구 소재의 방재시설이 맞는지 검토하겠습니다.  \n",
    "Pandas의 str.contains 메소드를 통해 \"주소\" 컬럼의 값들이 \"광산구\" 를 포함하는지 확인하겠습니다."
   ]
  },
  {
   "cell_type": "code",
   "execution_count": 3,
   "id": "e60e5499",
   "metadata": {},
   "outputs": [
    {
     "data": {
      "text/plain": [
       "258"
      ]
     },
     "execution_count": 3,
     "metadata": {},
     "output_type": "execute_result"
    }
   ],
   "source": [
    "safers[\"주소\"].str.contains(\"광산구\").count()"
   ]
  },
  {
   "attachments": {},
   "cell_type": "markdown",
   "id": "236d63de",
   "metadata": {},
   "source": [
    "**258개의 모든 행이 \"주소\" 컬럼에 \"광산구\" 를 포함하고 있음을 확인할 수 있습니다.  \n",
    "이미 데이터 전처리가 이루어졌다고 봐야하는 훌륭한 데이터 집합입니다.**"
   ]
  },
  {
   "attachments": {},
   "cell_type": "markdown",
   "id": "52bfaabf",
   "metadata": {},
   "source": [
    "## 데이터 전처리"
   ]
  },
  {
   "attachments": {},
   "cell_type": "markdown",
   "id": "d18c0e83",
   "metadata": {},
   "source": [
    "이제 본격적으로 데이터 시각화를 위한 전처리 작업을 진행하겠습니다.  \n",
    "먼저 불필요한 \"연번\" 컬럼을 제거하겠습니다.  \n",
    "**만일을 대비하여 다른 변수로서 데이터프레임을 추가로 선언한 다음에 작업을 진행하겠습니다.  \n",
    "작업이 잘 이루어졌는지도 같이 확인할 것입니다.**"
   ]
  },
  {
   "cell_type": "code",
   "execution_count": 4,
   "id": "94a4cfdb",
   "metadata": {},
   "outputs": [
    {
     "name": "stdout",
     "output_type": "stream",
     "text": [
      "(258, 6)\n"
     ]
    },
    {
     "data": {
      "text/html": [
       "<div>\n",
       "<style scoped>\n",
       "    .dataframe tbody tr th:only-of-type {\n",
       "        vertical-align: middle;\n",
       "    }\n",
       "\n",
       "    .dataframe tbody tr th {\n",
       "        vertical-align: top;\n",
       "    }\n",
       "\n",
       "    .dataframe thead th {\n",
       "        text-align: right;\n",
       "    }\n",
       "</style>\n",
       "<table border=\"1\" class=\"dataframe\">\n",
       "  <thead>\n",
       "    <tr style=\"text-align: right;\">\n",
       "      <th></th>\n",
       "      <th>구분</th>\n",
       "      <th>시설명칭</th>\n",
       "      <th>주소</th>\n",
       "      <th>위도</th>\n",
       "      <th>경도</th>\n",
       "      <th>데이터기준일자</th>\n",
       "    </tr>\n",
       "  </thead>\n",
       "  <tbody>\n",
       "    <tr>\n",
       "      <th>0</th>\n",
       "      <td>배수펌프장</td>\n",
       "      <td>용봉배수펌프장</td>\n",
       "      <td>광주광역시 광산구 용봉길92(용봉동)</td>\n",
       "      <td>35.071619</td>\n",
       "      <td>126.771535</td>\n",
       "      <td>2022.12.31</td>\n",
       "    </tr>\n",
       "    <tr>\n",
       "      <th>1</th>\n",
       "      <td>배수펌프장</td>\n",
       "      <td>동곡배수펌프장</td>\n",
       "      <td>광주광역시 광산구 마곡길39(본덕동)</td>\n",
       "      <td>35.084279</td>\n",
       "      <td>126.787632</td>\n",
       "      <td>2022.12.31</td>\n",
       "    </tr>\n",
       "    <tr>\n",
       "      <th>2</th>\n",
       "      <td>배수펌프장</td>\n",
       "      <td>송대배수펌프장</td>\n",
       "      <td>광주광역시 광산구 송대동 13-5</td>\n",
       "      <td>35.105792</td>\n",
       "      <td>126.804541</td>\n",
       "      <td>2022.12.31</td>\n",
       "    </tr>\n",
       "    <tr>\n",
       "      <th>3</th>\n",
       "      <td>배수펌프장</td>\n",
       "      <td>우산배수펌프장</td>\n",
       "      <td>광주광역시 광산구 우산천변길261(우산동)</td>\n",
       "      <td>35.153189</td>\n",
       "      <td>126.823316</td>\n",
       "      <td>2022.12.31</td>\n",
       "    </tr>\n",
       "    <tr>\n",
       "      <th>4</th>\n",
       "      <td>배수펌프장</td>\n",
       "      <td>운남배수펌프장</td>\n",
       "      <td>광주광역시 광산구 우산동 591</td>\n",
       "      <td>35.165685</td>\n",
       "      <td>126.820880</td>\n",
       "      <td>2022.12.31</td>\n",
       "    </tr>\n",
       "  </tbody>\n",
       "</table>\n",
       "</div>"
      ],
      "text/plain": [
       "      구분     시설명칭                       주소         위도          경도     데이터기준일자\n",
       "0  배수펌프장  용봉배수펌프장     광주광역시 광산구 용봉길92(용봉동)  35.071619  126.771535  2022.12.31\n",
       "1  배수펌프장  동곡배수펌프장     광주광역시 광산구 마곡길39(본덕동)  35.084279  126.787632  2022.12.31\n",
       "2  배수펌프장  송대배수펌프장       광주광역시 광산구 송대동 13-5  35.105792  126.804541  2022.12.31\n",
       "3  배수펌프장  우산배수펌프장  광주광역시 광산구 우산천변길261(우산동)  35.153189  126.823316  2022.12.31\n",
       "4  배수펌프장  운남배수펌프장        광주광역시 광산구 우산동 591  35.165685  126.820880  2022.12.31"
      ]
     },
     "execution_count": 4,
     "metadata": {},
     "output_type": "execute_result"
    }
   ],
   "source": [
    "safe = safers\n",
    "safe\n",
    "safe = safe.drop([\"연번\"], axis = 1)\n",
    "\n",
    "print(safe.shape)\n",
    "safe.head(5)"
   ]
  },
  {
   "attachments": {},
   "cell_type": "markdown",
   "id": "95311b69",
   "metadata": {},
   "source": [
    "**\"주소\" 컬럼은 필요하지 않지만, 행정구역 별로 시설이 얼마나 있는지 확인하고 싶습니다.**  \n",
    "따라서 \"주소\" 를 기반으로 \"행정구역\" 컬럼을 생성하겠습니다.  \n",
    "\"행정구역\" 컬럼의 값은 행정동 이름만 가지도록 처리하겠습니다.  \n",
    "Pandas의 str.extract(\"(\\w*)\") 메소드를 사용하였습니다."
   ]
  },
  {
   "cell_type": "code",
   "execution_count": 5,
   "id": "f24a52e4",
   "metadata": {},
   "outputs": [
    {
     "data": {
      "text/html": [
       "<div>\n",
       "<style scoped>\n",
       "    .dataframe tbody tr th:only-of-type {\n",
       "        vertical-align: middle;\n",
       "    }\n",
       "\n",
       "    .dataframe tbody tr th {\n",
       "        vertical-align: top;\n",
       "    }\n",
       "\n",
       "    .dataframe thead th {\n",
       "        text-align: right;\n",
       "    }\n",
       "</style>\n",
       "<table border=\"1\" class=\"dataframe\">\n",
       "  <thead>\n",
       "    <tr style=\"text-align: right;\">\n",
       "      <th></th>\n",
       "      <th>구분</th>\n",
       "      <th>시설명칭</th>\n",
       "      <th>주소</th>\n",
       "      <th>위도</th>\n",
       "      <th>경도</th>\n",
       "      <th>데이터기준일자</th>\n",
       "      <th>행정구역</th>\n",
       "    </tr>\n",
       "  </thead>\n",
       "  <tbody>\n",
       "    <tr>\n",
       "      <th>0</th>\n",
       "      <td>배수펌프장</td>\n",
       "      <td>용봉배수펌프장</td>\n",
       "      <td>광주광역시 광산구 용봉길92(용봉동)</td>\n",
       "      <td>35.071619</td>\n",
       "      <td>126.771535</td>\n",
       "      <td>2022.12.31</td>\n",
       "      <td>용봉동</td>\n",
       "    </tr>\n",
       "    <tr>\n",
       "      <th>1</th>\n",
       "      <td>배수펌프장</td>\n",
       "      <td>동곡배수펌프장</td>\n",
       "      <td>광주광역시 광산구 마곡길39(본덕동)</td>\n",
       "      <td>35.084279</td>\n",
       "      <td>126.787632</td>\n",
       "      <td>2022.12.31</td>\n",
       "      <td>본덕동</td>\n",
       "    </tr>\n",
       "    <tr>\n",
       "      <th>2</th>\n",
       "      <td>배수펌프장</td>\n",
       "      <td>송대배수펌프장</td>\n",
       "      <td>광주광역시 광산구 송대동 13-5</td>\n",
       "      <td>35.105792</td>\n",
       "      <td>126.804541</td>\n",
       "      <td>2022.12.31</td>\n",
       "      <td>송대동</td>\n",
       "    </tr>\n",
       "    <tr>\n",
       "      <th>3</th>\n",
       "      <td>배수펌프장</td>\n",
       "      <td>우산배수펌프장</td>\n",
       "      <td>광주광역시 광산구 우산천변길261(우산동)</td>\n",
       "      <td>35.153189</td>\n",
       "      <td>126.823316</td>\n",
       "      <td>2022.12.31</td>\n",
       "      <td>우산동</td>\n",
       "    </tr>\n",
       "    <tr>\n",
       "      <th>4</th>\n",
       "      <td>배수펌프장</td>\n",
       "      <td>운남배수펌프장</td>\n",
       "      <td>광주광역시 광산구 우산동 591</td>\n",
       "      <td>35.165685</td>\n",
       "      <td>126.820880</td>\n",
       "      <td>2022.12.31</td>\n",
       "      <td>우산동</td>\n",
       "    </tr>\n",
       "  </tbody>\n",
       "</table>\n",
       "</div>"
      ],
      "text/plain": [
       "      구분     시설명칭                       주소         위도          경도     데이터기준일자   \n",
       "0  배수펌프장  용봉배수펌프장     광주광역시 광산구 용봉길92(용봉동)  35.071619  126.771535  2022.12.31  \\\n",
       "1  배수펌프장  동곡배수펌프장     광주광역시 광산구 마곡길39(본덕동)  35.084279  126.787632  2022.12.31   \n",
       "2  배수펌프장  송대배수펌프장       광주광역시 광산구 송대동 13-5  35.105792  126.804541  2022.12.31   \n",
       "3  배수펌프장  우산배수펌프장  광주광역시 광산구 우산천변길261(우산동)  35.153189  126.823316  2022.12.31   \n",
       "4  배수펌프장  운남배수펌프장        광주광역시 광산구 우산동 591  35.165685  126.820880  2022.12.31   \n",
       "\n",
       "  행정구역  \n",
       "0  용봉동  \n",
       "1  본덕동  \n",
       "2  송대동  \n",
       "3  우산동  \n",
       "4  우산동  "
      ]
     },
     "execution_count": 5,
     "metadata": {},
     "output_type": "execute_result"
    }
   ],
   "source": [
    "safe[\"행정구역\"] = safe[\"주소\"].str.extract(\"(\\w*동)\")\n",
    "\n",
    "safe.head(5)"
   ]
  },
  {
   "attachments": {},
   "cell_type": "markdown",
   "id": "2f0b4605",
   "metadata": {},
   "source": [
    "이제 행정구역 별로 어떠한 방재시설이 있는지 확인해보겠습니다.  \n",
    "**하지만, 행정구역 목록을 확인해보니 결측치가 확인됩니다.  \n",
    "도로명주소 적용으로 인해 \"주소\" 컬럼에 \"동\"이 기재되지 않은 것으로 추측됩니다.**"
   ]
  },
  {
   "cell_type": "code",
   "execution_count": 6,
   "id": "0a1c4f59",
   "metadata": {},
   "outputs": [
    {
     "data": {
      "text/plain": [
       "array(['용봉동', '본덕동', '송대동', '우산동', '황룡동', '송산동', '송치동', '선동', '오산동',\n",
       "       '유계동', '신촌동', '신창동', '신가동', '장록동', '송정동', '산월동', '평동', '박호동', nan,\n",
       "       '하산동', '연산동', '지죽동', '지평동', '산수동', '임곡동', '사호동', '광산동', '등임동',\n",
       "       '운남동', '선암동', '남산동', '산막동', '내동송동', '도덕동', '본량동', '오운동', '덕림동',\n",
       "       '동호동', '양산동', '동림동', '월곡동', '수완동', '장덕동', '도천동', '비아동', '요기동',\n",
       "       '동곡동', '월전동', '옥동', '용곡동', '진곡동', '오선동', '하남동'], dtype=object)"
      ]
     },
     "execution_count": 6,
     "metadata": {},
     "output_type": "execute_result"
    }
   ],
   "source": [
    "safe[\"행정구역\"].unique()"
   ]
  },
  {
   "cell_type": "code",
   "execution_count": 7,
   "id": "49a43314",
   "metadata": {},
   "outputs": [
    {
     "data": {
      "text/html": [
       "<div>\n",
       "<style scoped>\n",
       "    .dataframe tbody tr th:only-of-type {\n",
       "        vertical-align: middle;\n",
       "    }\n",
       "\n",
       "    .dataframe tbody tr th {\n",
       "        vertical-align: top;\n",
       "    }\n",
       "\n",
       "    .dataframe thead th {\n",
       "        text-align: right;\n",
       "    }\n",
       "</style>\n",
       "<table border=\"1\" class=\"dataframe\">\n",
       "  <thead>\n",
       "    <tr style=\"text-align: right;\">\n",
       "      <th></th>\n",
       "      <th>구분</th>\n",
       "      <th>시설명칭</th>\n",
       "      <th>주소</th>\n",
       "      <th>위도</th>\n",
       "      <th>경도</th>\n",
       "      <th>데이터기준일자</th>\n",
       "      <th>행정구역</th>\n",
       "    </tr>\n",
       "  </thead>\n",
       "  <tbody>\n",
       "    <tr>\n",
       "      <th>25</th>\n",
       "      <td>배수문</td>\n",
       "      <td>용봉배수펌프장 배수문</td>\n",
       "      <td>광주광역시 광산구 용봉길 92</td>\n",
       "      <td>35.071619</td>\n",
       "      <td>126.771535</td>\n",
       "      <td>2022.12.31</td>\n",
       "      <td>NaN</td>\n",
       "    </tr>\n",
       "    <tr>\n",
       "      <th>26</th>\n",
       "      <td>배수문</td>\n",
       "      <td>동곡배수펌프장 배수문</td>\n",
       "      <td>광주광역시 광산구 마곡길 39</td>\n",
       "      <td>35.084279</td>\n",
       "      <td>126.787632</td>\n",
       "      <td>2022.12.31</td>\n",
       "      <td>NaN</td>\n",
       "    </tr>\n",
       "    <tr>\n",
       "      <th>29</th>\n",
       "      <td>배수문</td>\n",
       "      <td>우산배수펌프장 배수문</td>\n",
       "      <td>광주광역시 광산구 우산천변길 261</td>\n",
       "      <td>35.153189</td>\n",
       "      <td>126.823316</td>\n",
       "      <td>2022.12.31</td>\n",
       "      <td>NaN</td>\n",
       "    </tr>\n",
       "    <tr>\n",
       "      <th>30</th>\n",
       "      <td>배수문</td>\n",
       "      <td>운남배수펌프장 배수문</td>\n",
       "      <td>광주광역시 광산구 풍영철길로 106-2</td>\n",
       "      <td>35.165497</td>\n",
       "      <td>126.820837</td>\n",
       "      <td>2022.12.31</td>\n",
       "      <td>NaN</td>\n",
       "    </tr>\n",
       "  </tbody>\n",
       "</table>\n",
       "</div>"
      ],
      "text/plain": [
       "     구분         시설명칭                     주소         위도          경도   \n",
       "25  배수문  용봉배수펌프장 배수문       광주광역시 광산구 용봉길 92  35.071619  126.771535  \\\n",
       "26  배수문  동곡배수펌프장 배수문       광주광역시 광산구 마곡길 39  35.084279  126.787632   \n",
       "29  배수문  우산배수펌프장 배수문    광주광역시 광산구 우산천변길 261  35.153189  126.823316   \n",
       "30  배수문  운남배수펌프장 배수문  광주광역시 광산구 풍영철길로 106-2  35.165497  126.820837   \n",
       "\n",
       "       데이터기준일자 행정구역  \n",
       "25  2022.12.31  NaN  \n",
       "26  2022.12.31  NaN  \n",
       "29  2022.12.31  NaN  \n",
       "30  2022.12.31  NaN  "
      ]
     },
     "execution_count": 7,
     "metadata": {},
     "output_type": "execute_result"
    }
   ],
   "source": [
    "safe[safe[\"행정구역\"].isnull() == True]"
   ]
  },
  {
   "attachments": {},
   "cell_type": "markdown",
   "id": "c25e7857",
   "metadata": {},
   "source": [
    "결측치가 있는 행을 확인해본 결과 모두 구분이 \"배수문\" 입니다.  \n",
    "하지만 행정구역 값이 있는 배수문의 개수가 44개나 됩니다.  \n",
    "**하지만 시설명칭의 값과 행정구역의 값 간에는 유의미한 상관관계가 있음을 확인할 수 있습니다.  \n",
    "\"시설명칭\"의 앞 두글자를 토대로 \"용봉\", \"동곡\", \"우산\", \"운남\" 임을 예측할 수 있습니다.**"
   ]
  },
  {
   "cell_type": "code",
   "execution_count": 8,
   "id": "e0991dbc",
   "metadata": {},
   "outputs": [
    {
     "name": "stdout",
     "output_type": "stream",
     "text": [
      "행정구역 값이 있는 배수문의 개수:  (44, 7)\n"
     ]
    },
    {
     "data": {
      "text/html": [
       "<div>\n",
       "<style scoped>\n",
       "    .dataframe tbody tr th:only-of-type {\n",
       "        vertical-align: middle;\n",
       "    }\n",
       "\n",
       "    .dataframe tbody tr th {\n",
       "        vertical-align: top;\n",
       "    }\n",
       "\n",
       "    .dataframe thead th {\n",
       "        text-align: right;\n",
       "    }\n",
       "</style>\n",
       "<table border=\"1\" class=\"dataframe\">\n",
       "  <thead>\n",
       "    <tr style=\"text-align: right;\">\n",
       "      <th></th>\n",
       "      <th>구분</th>\n",
       "      <th>시설명칭</th>\n",
       "      <th>주소</th>\n",
       "      <th>위도</th>\n",
       "      <th>경도</th>\n",
       "      <th>데이터기준일자</th>\n",
       "      <th>행정구역</th>\n",
       "    </tr>\n",
       "  </thead>\n",
       "  <tbody>\n",
       "    <tr>\n",
       "      <th>27</th>\n",
       "      <td>배수문</td>\n",
       "      <td>송정배수펌프장 배수문</td>\n",
       "      <td>광주광역시 광산구 황룡동 415-4</td>\n",
       "      <td>35.124794</td>\n",
       "      <td>126.785389</td>\n",
       "      <td>2022.12.31</td>\n",
       "      <td>황룡동</td>\n",
       "    </tr>\n",
       "    <tr>\n",
       "      <th>28</th>\n",
       "      <td>배수문</td>\n",
       "      <td>송대배수펌프장 배수문</td>\n",
       "      <td>광주광역시 광산구 송대동 13-5</td>\n",
       "      <td>35.105792</td>\n",
       "      <td>126.804541</td>\n",
       "      <td>2022.12.31</td>\n",
       "      <td>송대동</td>\n",
       "    </tr>\n",
       "    <tr>\n",
       "      <th>31</th>\n",
       "      <td>배수문</td>\n",
       "      <td>죽산배수펌프장 배수문</td>\n",
       "      <td>광주광역시 광산구 송산동 255-10</td>\n",
       "      <td>35.158236</td>\n",
       "      <td>126.733243</td>\n",
       "      <td>2022.12.31</td>\n",
       "      <td>송산동</td>\n",
       "    </tr>\n",
       "    <tr>\n",
       "      <th>32</th>\n",
       "      <td>배수문</td>\n",
       "      <td>산수배수펌프장 배수문</td>\n",
       "      <td>광주광역시 광산구 송치동 183-18</td>\n",
       "      <td>35.173883</td>\n",
       "      <td>126.740436</td>\n",
       "      <td>2022.12.31</td>\n",
       "      <td>송치동</td>\n",
       "    </tr>\n",
       "    <tr>\n",
       "      <th>33</th>\n",
       "      <td>배수문</td>\n",
       "      <td>산막배수펌프장 배수문</td>\n",
       "      <td>광주광역시 광산구 선동 3-9</td>\n",
       "      <td>35.196895</td>\n",
       "      <td>126.758437</td>\n",
       "      <td>2022.12.31</td>\n",
       "      <td>선동</td>\n",
       "    </tr>\n",
       "  </tbody>\n",
       "</table>\n",
       "</div>"
      ],
      "text/plain": [
       "     구분         시설명칭                    주소         위도          경도     데이터기준일자   \n",
       "27  배수문  송정배수펌프장 배수문   광주광역시 광산구 황룡동 415-4  35.124794  126.785389  2022.12.31  \\\n",
       "28  배수문  송대배수펌프장 배수문    광주광역시 광산구 송대동 13-5  35.105792  126.804541  2022.12.31   \n",
       "31  배수문  죽산배수펌프장 배수문  광주광역시 광산구 송산동 255-10  35.158236  126.733243  2022.12.31   \n",
       "32  배수문  산수배수펌프장 배수문  광주광역시 광산구 송치동 183-18  35.173883  126.740436  2022.12.31   \n",
       "33  배수문  산막배수펌프장 배수문      광주광역시 광산구 선동 3-9  35.196895  126.758437  2022.12.31   \n",
       "\n",
       "   행정구역  \n",
       "27  황룡동  \n",
       "28  송대동  \n",
       "31  송산동  \n",
       "32  송치동  \n",
       "33   선동  "
      ]
     },
     "execution_count": 8,
     "metadata": {},
     "output_type": "execute_result"
    }
   ],
   "source": [
    "# 조건문이 기므로 변수로 담아서 추가합니다.\n",
    "req1 = safe[\"행정구역\"].notnull() == True\n",
    "req2 = safe[\"구분\"] == \"배수문\"\n",
    "print(\"행정구역 값이 있는 배수문의 개수: \", safe[req1 & req2].shape)\n",
    "safe[req1 & req2].head()"
   ]
  },
  {
   "attachments": {},
   "cell_type": "markdown",
   "id": "db0462cf",
   "metadata": {},
   "source": [
    "결측치를 가진 행이 적었다면 수기로 편집할 수 있겠지만, 행이 많다면 굉장히 곤란한 상황입니다.  \n",
    "**람다식을 활용하여 결측치를 가진 행의 \"행정구역\" 에는 시설명칭의 앞 두글자+동이 값으로 삽입되도록 구현하겠습니다.**\n"
   ]
  },
  {
   "cell_type": "code",
   "execution_count": 9,
   "id": "db43ddf3",
   "metadata": {},
   "outputs": [
    {
     "name": "stdout",
     "output_type": "stream",
     "text": [
      "결측치 정보\n"
     ]
    },
    {
     "data": {
      "text/plain": [
       "구분         0\n",
       "시설명칭       0\n",
       "주소         0\n",
       "위도         0\n",
       "경도         0\n",
       "데이터기준일자    0\n",
       "행정구역       0\n",
       "dtype: int64"
      ]
     },
     "execution_count": 9,
     "metadata": {},
     "output_type": "execute_result"
    }
   ],
   "source": [
    "# 행정구역이 결측치인 조건을 변수로\n",
    "area_null = safe[\"행정구역\"].isnull() == True\n",
    "\n",
    "# 행정구역이 결측치인 df에서 \"시설명칭\" 만 추출한 것을 변수로\n",
    "# 람다식을 사용하여 앞 두글자와 \"동\" 을 반환하도록 적용.\n",
    "area_null_sname = safe.loc[area_null, \"시설명칭\"].apply(lambda x : x[:2]+\"동\")\n",
    "\n",
    "# 이후 loc로 뽑아낸 \"행정구역\" 에 area_null_sname 적용\n",
    "safe.loc[(area_null), \"행정구역\"] = area_null_sname\n",
    "\n",
    "# 결측치가 없음을 확인\n",
    "print(\"결측치 정보\")\n",
    "safe.isnull().sum()"
   ]
  },
  {
   "attachments": {},
   "cell_type": "markdown",
   "id": "975914fe",
   "metadata": {},
   "source": [
    "결측치에 대한 람다식이 정상적으로 적용된 것을 확인할 수 있습니다."
   ]
  },
  {
   "attachments": {},
   "cell_type": "markdown",
   "id": "7a5114cc",
   "metadata": {},
   "source": [
    "마지막으로 \"주소\" 컬럼을 제거하고 safe 데이터프레임에 대해 한 번 더 검토합니다."
   ]
  },
  {
   "cell_type": "code",
   "execution_count": 10,
   "id": "eaec5009",
   "metadata": {},
   "outputs": [
    {
     "name": "stdout",
     "output_type": "stream",
     "text": [
      "구분         0\n",
      "시설명칭       0\n",
      "주소         0\n",
      "위도         0\n",
      "경도         0\n",
      "데이터기준일자    0\n",
      "행정구역       0\n",
      "dtype: int64\n",
      "safe의 shape:  (258, 7)\n"
     ]
    }
   ],
   "source": [
    "# safe = safe.drop([\"주소\"], axis=1)\n",
    "print(safe.isnull().sum())\n",
    "print(\"safe의 shape: \", safe.shape)"
   ]
  },
  {
   "cell_type": "code",
   "execution_count": 11,
   "id": "087a23cf",
   "metadata": {},
   "outputs": [
    {
     "data": {
      "text/html": [
       "<div>\n",
       "<style scoped>\n",
       "    .dataframe tbody tr th:only-of-type {\n",
       "        vertical-align: middle;\n",
       "    }\n",
       "\n",
       "    .dataframe tbody tr th {\n",
       "        vertical-align: top;\n",
       "    }\n",
       "\n",
       "    .dataframe thead th {\n",
       "        text-align: right;\n",
       "    }\n",
       "</style>\n",
       "<table border=\"1\" class=\"dataframe\">\n",
       "  <thead>\n",
       "    <tr style=\"text-align: right;\">\n",
       "      <th></th>\n",
       "      <th>구분</th>\n",
       "      <th>시설명칭</th>\n",
       "      <th>주소</th>\n",
       "      <th>위도</th>\n",
       "      <th>경도</th>\n",
       "      <th>데이터기준일자</th>\n",
       "      <th>행정구역</th>\n",
       "    </tr>\n",
       "  </thead>\n",
       "  <tbody>\n",
       "    <tr>\n",
       "      <th>0</th>\n",
       "      <td>배수펌프장</td>\n",
       "      <td>용봉배수펌프장</td>\n",
       "      <td>광주광역시 광산구 용봉길92(용봉동)</td>\n",
       "      <td>35.071619</td>\n",
       "      <td>126.771535</td>\n",
       "      <td>2022.12.31</td>\n",
       "      <td>용봉동</td>\n",
       "    </tr>\n",
       "    <tr>\n",
       "      <th>1</th>\n",
       "      <td>배수펌프장</td>\n",
       "      <td>동곡배수펌프장</td>\n",
       "      <td>광주광역시 광산구 마곡길39(본덕동)</td>\n",
       "      <td>35.084279</td>\n",
       "      <td>126.787632</td>\n",
       "      <td>2022.12.31</td>\n",
       "      <td>본덕동</td>\n",
       "    </tr>\n",
       "    <tr>\n",
       "      <th>2</th>\n",
       "      <td>배수펌프장</td>\n",
       "      <td>송대배수펌프장</td>\n",
       "      <td>광주광역시 광산구 송대동 13-5</td>\n",
       "      <td>35.105792</td>\n",
       "      <td>126.804541</td>\n",
       "      <td>2022.12.31</td>\n",
       "      <td>송대동</td>\n",
       "    </tr>\n",
       "    <tr>\n",
       "      <th>3</th>\n",
       "      <td>배수펌프장</td>\n",
       "      <td>우산배수펌프장</td>\n",
       "      <td>광주광역시 광산구 우산천변길261(우산동)</td>\n",
       "      <td>35.153189</td>\n",
       "      <td>126.823316</td>\n",
       "      <td>2022.12.31</td>\n",
       "      <td>우산동</td>\n",
       "    </tr>\n",
       "    <tr>\n",
       "      <th>4</th>\n",
       "      <td>배수펌프장</td>\n",
       "      <td>운남배수펌프장</td>\n",
       "      <td>광주광역시 광산구 우산동 591</td>\n",
       "      <td>35.165685</td>\n",
       "      <td>126.820880</td>\n",
       "      <td>2022.12.31</td>\n",
       "      <td>우산동</td>\n",
       "    </tr>\n",
       "  </tbody>\n",
       "</table>\n",
       "</div>"
      ],
      "text/plain": [
       "      구분     시설명칭                       주소         위도          경도     데이터기준일자   \n",
       "0  배수펌프장  용봉배수펌프장     광주광역시 광산구 용봉길92(용봉동)  35.071619  126.771535  2022.12.31  \\\n",
       "1  배수펌프장  동곡배수펌프장     광주광역시 광산구 마곡길39(본덕동)  35.084279  126.787632  2022.12.31   \n",
       "2  배수펌프장  송대배수펌프장       광주광역시 광산구 송대동 13-5  35.105792  126.804541  2022.12.31   \n",
       "3  배수펌프장  우산배수펌프장  광주광역시 광산구 우산천변길261(우산동)  35.153189  126.823316  2022.12.31   \n",
       "4  배수펌프장  운남배수펌프장        광주광역시 광산구 우산동 591  35.165685  126.820880  2022.12.31   \n",
       "\n",
       "  행정구역  \n",
       "0  용봉동  \n",
       "1  본덕동  \n",
       "2  송대동  \n",
       "3  우산동  \n",
       "4  우산동  "
      ]
     },
     "execution_count": 11,
     "metadata": {},
     "output_type": "execute_result"
    }
   ],
   "source": [
    "safe.head(5)"
   ]
  },
  {
   "attachments": {},
   "cell_type": "markdown",
   "id": "767e2e4e",
   "metadata": {},
   "source": [
    "성공적으로 전처리되었음을 확인할 수 있습니다."
   ]
  },
  {
   "attachments": {},
   "cell_type": "markdown",
   "id": "6eb999fb",
   "metadata": {},
   "source": [
    "## 데이터 시각화 - 행정구역별 방재시설 설치 현황"
   ]
  },
  {
   "attachments": {},
   "cell_type": "markdown",
   "id": "e9bed5ac",
   "metadata": {},
   "source": [
    "이제 행정구역별로 방재시설 보유 현황을 그래프로 표현해 보겠습니다.  \n",
    "**송산동에 자연배수문을 가장 많이 설치된 것을 확인할 수 있습니다.  \n",
    "광주광역시는 내륙지방이므로 송산동은 강과 인접한 동으로 유추됩니다.  \n",
    "별도로 확인한 결과 송산동은 송산유원지 등 황룡강과 인접한 지역입니다.**"
   ]
  },
  {
   "cell_type": "code",
   "execution_count": 14,
   "id": "6f6ec99e",
   "metadata": {},
   "outputs": [
    {
     "data": {
      "image/png": "[encoded data removed]",
      "text/plain": [
       "<Figure size 2000x4000 with 1 Axes>"
      ]
     },
     "metadata": {},
     "output_type": "display_data"
    }
   ],
   "source": [
    "plt.figure(figsize = (20, 40))\n",
    "\n",
    "# y와 y 인자의 순서는 무관함 - Matplotlib.\n",
    "sns.countplot(data=safe, y = \"행정구역\", hue = \"구분\")\n",
    "plt.title(\"광주광역시 광산구 행정구역별 방재시설 보유 현황\")\n",
    "\n",
    "plt.show()"
   ]
  },
  {
   "attachments": {},
   "cell_type": "markdown",
   "id": "eac52c19",
   "metadata": {},
   "source": [
    "그룹화 된 데이터프레임과 피벗테이블로서는 아래와 같이 확인할 수 있습니다."
   ]
  },
  {
   "cell_type": "code",
   "execution_count": 11,
   "id": "c6f507b4",
   "metadata": {},
   "outputs": [
    {
     "data": {
      "text/html": [
       "<div>\n",
       "<style scoped>\n",
       "    .dataframe tbody tr th:only-of-type {\n",
       "        vertical-align: middle;\n",
       "    }\n",
       "\n",
       "    .dataframe tbody tr th {\n",
       "        vertical-align: top;\n",
       "    }\n",
       "\n",
       "    .dataframe thead th {\n",
       "        text-align: right;\n",
       "    }\n",
       "</style>\n",
       "<table border=\"1\" class=\"dataframe\">\n",
       "  <thead>\n",
       "    <tr style=\"text-align: right;\">\n",
       "      <th></th>\n",
       "      <th></th>\n",
       "      <th>시설명칭</th>\n",
       "    </tr>\n",
       "    <tr>\n",
       "      <th>행정구역</th>\n",
       "      <th>구분</th>\n",
       "      <th></th>\n",
       "    </tr>\n",
       "  </thead>\n",
       "  <tbody>\n",
       "    <tr>\n",
       "      <th rowspan=\"2\" valign=\"top\">광산동</th>\n",
       "      <th>배수문</th>\n",
       "      <td>2</td>\n",
       "    </tr>\n",
       "    <tr>\n",
       "      <th>자연배수문</th>\n",
       "      <td>9</td>\n",
       "    </tr>\n",
       "    <tr>\n",
       "      <th>남산동</th>\n",
       "      <th>자연배수문</th>\n",
       "      <td>1</td>\n",
       "    </tr>\n",
       "    <tr>\n",
       "      <th>내동송동</th>\n",
       "      <th>자연배수문</th>\n",
       "      <td>1</td>\n",
       "    </tr>\n",
       "    <tr>\n",
       "      <th>덕림동</th>\n",
       "      <th>자연배수문</th>\n",
       "      <td>6</td>\n",
       "    </tr>\n",
       "    <tr>\n",
       "      <th>...</th>\n",
       "      <th>...</th>\n",
       "      <td>...</td>\n",
       "    </tr>\n",
       "    <tr>\n",
       "      <th>하남동</th>\n",
       "      <th>저류지</th>\n",
       "      <td>1</td>\n",
       "    </tr>\n",
       "    <tr>\n",
       "      <th rowspan=\"2\" valign=\"top\">하산동</th>\n",
       "      <th>배수문</th>\n",
       "      <td>3</td>\n",
       "    </tr>\n",
       "    <tr>\n",
       "      <th>자연배수문</th>\n",
       "      <td>4</td>\n",
       "    </tr>\n",
       "    <tr>\n",
       "      <th rowspan=\"2\" valign=\"top\">황룡동</th>\n",
       "      <th>배수문</th>\n",
       "      <td>1</td>\n",
       "    </tr>\n",
       "    <tr>\n",
       "      <th>배수펌프장</th>\n",
       "      <td>1</td>\n",
       "    </tr>\n",
       "  </tbody>\n",
       "</table>\n",
       "<p>90 rows × 1 columns</p>\n",
       "</div>"
      ],
      "text/plain": [
       "            시설명칭\n",
       "행정구역 구분         \n",
       "광산동  배수문       2\n",
       "     자연배수문     9\n",
       "남산동  자연배수문     1\n",
       "내동송동 자연배수문     1\n",
       "덕림동  자연배수문     6\n",
       "...          ...\n",
       "하남동  저류지       1\n",
       "하산동  배수문       3\n",
       "     자연배수문     4\n",
       "황룡동  배수문       1\n",
       "     배수펌프장     1\n",
       "\n",
       "[90 rows x 1 columns]"
      ]
     },
     "execution_count": 11,
     "metadata": {},
     "output_type": "execute_result"
    }
   ],
   "source": [
    "safe_pivot = safe[[\"행정구역\", \"구분\", \"시설명칭\"]].groupby([\"행정구역\", \"구분\"]).count()\n",
    "safe_pivot"
   ]
  },
  {
   "cell_type": "code",
   "execution_count": 12,
   "id": "90a06877",
   "metadata": {},
   "outputs": [
    {
     "data": {
      "text/html": [
       "<div>\n",
       "<style scoped>\n",
       "    .dataframe tbody tr th:only-of-type {\n",
       "        vertical-align: middle;\n",
       "    }\n",
       "\n",
       "    .dataframe tbody tr th {\n",
       "        vertical-align: top;\n",
       "    }\n",
       "\n",
       "    .dataframe thead tr th {\n",
       "        text-align: left;\n",
       "    }\n",
       "</style>\n",
       "<table border=\"1\" class=\"dataframe\">\n",
       "  <thead>\n",
       "    <tr>\n",
       "      <th>행정구역</th>\n",
       "      <th colspan=\"2\" halign=\"left\">황룡동</th>\n",
       "      <th colspan=\"2\" halign=\"left\">하산동</th>\n",
       "      <th>하남동</th>\n",
       "      <th colspan=\"2\" halign=\"left\">평동</th>\n",
       "      <th>진곡동</th>\n",
       "      <th colspan=\"2\" halign=\"left\">지평동</th>\n",
       "      <th>...</th>\n",
       "      <th>동림동</th>\n",
       "      <th colspan=\"2\" halign=\"left\">동곡동</th>\n",
       "      <th>도천동</th>\n",
       "      <th>도덕동</th>\n",
       "      <th>덕림동</th>\n",
       "      <th>내동송동</th>\n",
       "      <th>남산동</th>\n",
       "      <th colspan=\"2\" halign=\"left\">광산동</th>\n",
       "    </tr>\n",
       "    <tr>\n",
       "      <th>구분</th>\n",
       "      <th>배수펌프장</th>\n",
       "      <th>배수문</th>\n",
       "      <th>자연배수문</th>\n",
       "      <th>배수문</th>\n",
       "      <th>저류지</th>\n",
       "      <th>자연배수문</th>\n",
       "      <th>간이배수장</th>\n",
       "      <th>저류지</th>\n",
       "      <th>자연배수문</th>\n",
       "      <th>배수문</th>\n",
       "      <th>...</th>\n",
       "      <th>자연배수문</th>\n",
       "      <th>자연배수문</th>\n",
       "      <th>배수문</th>\n",
       "      <th>자연배수문</th>\n",
       "      <th>자연배수문</th>\n",
       "      <th>자연배수문</th>\n",
       "      <th>자연배수문</th>\n",
       "      <th>자연배수문</th>\n",
       "      <th>자연배수문</th>\n",
       "      <th>배수문</th>\n",
       "    </tr>\n",
       "  </thead>\n",
       "  <tbody>\n",
       "    <tr>\n",
       "      <th>시설명칭</th>\n",
       "      <td>1</td>\n",
       "      <td>1</td>\n",
       "      <td>4</td>\n",
       "      <td>3</td>\n",
       "      <td>1</td>\n",
       "      <td>1</td>\n",
       "      <td>1</td>\n",
       "      <td>2</td>\n",
       "      <td>2</td>\n",
       "      <td>1</td>\n",
       "      <td>...</td>\n",
       "      <td>3</td>\n",
       "      <td>1</td>\n",
       "      <td>1</td>\n",
       "      <td>1</td>\n",
       "      <td>6</td>\n",
       "      <td>6</td>\n",
       "      <td>1</td>\n",
       "      <td>1</td>\n",
       "      <td>9</td>\n",
       "      <td>2</td>\n",
       "    </tr>\n",
       "  </tbody>\n",
       "</table>\n",
       "<p>1 rows × 90 columns</p>\n",
       "</div>"
      ],
      "text/plain": [
       "행정구역   황룡동       하산동     하남동    평동       진곡동   지평동      ...   동림동   동곡동       \n",
       "구분   배수펌프장 배수문 자연배수문 배수문 저류지 자연배수문 간이배수장 저류지 자연배수문 배수문  ... 자연배수문 자연배수문 배수문   \n",
       "시설명칭     1   1     4   3   1     1     1   2     2   1  ...     3     1   1  \\\n",
       "\n",
       "행정구역   도천동   도덕동   덕림동  내동송동   남산동   광산동      \n",
       "구분   자연배수문 자연배수문 자연배수문 자연배수문 자연배수문 자연배수문 배수문  \n",
       "시설명칭     1     6     6     1     1     9   2  \n",
       "\n",
       "[1 rows x 90 columns]"
      ]
     },
     "execution_count": 12,
     "metadata": {},
     "output_type": "execute_result"
    }
   ],
   "source": [
    "pd.pivot_table(safe_pivot, index=[\"행정구역\", \"구분\"], values=\"시설명칭\").sort_values(by=[\"행정구역\"], ascending=False).T"
   ]
  },
  {
   "attachments": {},
   "cell_type": "markdown",
   "id": "41e0b12d",
   "metadata": {},
   "source": [
    "## 데이터 시각화 결과\n",
    "\n",
    "각 행정구역별로 적재적소에 배수문, 자연배수문, 저류지, 간이배수장, 저류지가 고르게 분포해 있는 것을 확인할 수 있습니다.  \n",
    "추후 본 데이터를 통해서 더 쉽게 눈으로 확인할 수 있는 추가 시각화를 진행하고자 합니다."
   ]
  }
 ],
 "metadata": {
  "kernelspec": {
   "display_name": "Python 3 (ipykernel)",
   "language": "python",
   "name": "python3"
  },
  "language_info": {
   "codemirror_mode": {
    "name": "ipython",
    "version": 3
   },
   "file_extension": ".py",
   "mimetype": "text/x-python",
   "name": "python",
   "nbconvert_exporter": "python",
   "pygments_lexer": "ipython3",
   "version": "3.11.3"
  }
 },
 "nbformat": 4,
 "nbformat_minor": 5
}
