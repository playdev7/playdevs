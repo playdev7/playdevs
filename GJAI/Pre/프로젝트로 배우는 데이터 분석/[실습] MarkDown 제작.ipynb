{
 "cells": [
  {
   "cell_type": "markdown",
   "metadata": {},
   "source": [
    "# MarkDown 제작 실습  \n",
    "---\n",
    "***Last Edit at May 11. 2023. Dohyeon Kwon***\n",
    "\n",
    "### 실습목표\n",
    "- 간단하게 문서를 제작할 수 있는 markdown을 활용해본다.\n",
    "- Jupyter Notebook 의 기본 기능과 단축키에 익숙해진다."
   ]
  },
  {
   "cell_type": "markdown",
   "metadata": {},
   "source": [
    "### 핵심 UI\n",
    "- **Colab 등 클라우드 및 로컬 모두 주기적으로 저장을 해주는 것이 중요하다.**\n",
    "- 셀이 초록색인 경우 해당 셀의 작성이 가능한 상태이다.\n",
    "- 셀이 파란색인 경우 해당 셀에 명령을 내릴 수 있는 상태이다.\n",
    "- ESC 버튼을 통해 작성모드와 명령모드로 전환할 수 있다.\n",
    "\n",
    "### 핵심 UX\n",
    "- 명령모드에서 m을 누르면 해당 셀은 마크다운 셀이 된다.\n",
    "- 명령모드에서 y를 누르면 해당 셀은 코드 셀이 된다.\n",
    "\n",
    "\n",
    "### 마크다운 문법 관련\n",
    "- 알려진 마크다운 문법과 똑같다.\n",
    "- #으로 헤딩 단계 조절\n",
    "- --- 으로 줄 긋기\n",
    "- *\\*으로 이텔릭체\\**\n",
    "- **\\*\\*로 볼드체 표현\\*\\***  \n",
    "마크다운에서도 \\ 백슬래시를 통해 이스케이프문 사용이 가능하다.\n",
    "- > \\> 으로 인용문구  \n",
    "띄어쓰기 두 개로 줄바꿈\n",
    "- BackQuote \\`code\\` 로 코드블럭 생성 가능 -> `print(\"hello\")`\n",
    "- BackQuote 3개 이상으로 감싸서 코드블럭 생성 가능\n",
    "```\n",
    "        tip1 = \"macOS 에서는 영문상태일 때 ₩을 눌러주면 `이 된다.\"\n",
    "        tip2 = \"한글 입력 모드에서는 opt + ₩ 을 눌러주면 된다.\"\n",
    "        print(\"tip1\", \"\\n\" ,\"tip2\")\n",
    "```\n",
    "- `[]()` 로 하이퍼링크 추가\n",
    "- `![]()` 로 이미지 삽입\n",
    "<br>\n",
    "- 줄바꿈은 HTML 의 `<br>` 태그 사용  \n",
    "<br>\n",
    "    **MarkDown 문법은 표준이 없어서 실행하는 플랫폼에 따라 문서 모양이 조금씩 달라진다.**\n",
    "\n",
    "\n",
    "### 명령모드에서의 여러 단축키\n",
    "- Ctrl(CMD) + Enter 는 현재 셀을 실행한다.\n",
    "- Shift + Enter 는 현재 셀을 실행 후 다음 셀로 넘어간다.\n",
    "- dd 로 해당 셀을 지울 수 있다.\n",
    "- b 로 셀을 추가시킬 수 있다.\n",
    "\n",
    "### 추가 팁\n",
    "- 코드 셀의 경우 Line을 클릭하여 Break Point 를 지정할 수 있다."
   ]
  },
  {
   "cell_type": "markdown",
   "metadata": {},
   "source": [
    "### 코드 예시"
   ]
  },
  {
   "cell_type": "code",
   "execution_count": 4,
   "metadata": {},
   "outputs": [
    {
     "name": "stdout",
     "output_type": "stream",
     "text": [
      "hello world\n"
     ]
    }
   ],
   "source": [
    "print(\"hello world\")\n",
    "\n",
    "# 변수 선언\n",
    "a = \"pre string\"\n"
   ]
  },
  {
   "cell_type": "code",
   "execution_count": 5,
   "metadata": {},
   "outputs": [
    {
     "name": "stdout",
     "output_type": "stream",
     "text": [
      "current string\n",
      "pre string\n"
     ]
    }
   ],
   "source": [
    "# 같은 Jupyter 문서의 코드들은 동일한 프로젝트처럼 작동된다.\n",
    "\n",
    "print(\"current string\")\n",
    "print(a)\n"
   ]
  },
  {
   "cell_type": "markdown",
   "metadata": {},
   "source": [
    "### Quiz.  \n",
    "**코드 셀은 실행하는 순서대로 반영되므로 실행 순서에 유의하여야 한다.**  \n",
    "1. 위의 코드를 순차적으로 실행했을 때 출력되는 결과는?  \"current string\" 이후 \"pre string\"  \n",
    "<br>\n",
    "2. a = \"edit string\" 으로 편집한 다음 print(a) 셀을 실행하면 출력되는 결과는?  **동일하다.**  \n",
    "\n",
    "단순히 변수 편집 후 다음 코드를 실행한다고 해서 \"edit string\" 이 출력되지 않는다.  \n",
    "변수, 함수 등 코드 편집 시 반드시 해당 코드 셀을 실행 후 연결된 코드셀을 순차적으로 실행하여야 한다.  \n",
    "의도 된 실행 및 편집이 아니라면, 편집 후 위에서부터 순차적으로 실행시키는 것을 권장한다.\n",
    "\n",
    "***인터프리터 언어는 해석기가 한 줄 한 줄 씩 번역한다는 것을 생각하면 단순하다.***  \n",
    "***Life is short, We need Python***"
   ]
  }
 ],
 "metadata": {
  "kernelspec": {
   "display_name": "Python 3 (ipykernel)",
   "language": "python",
   "name": "python3"
  },
  "language_info": {
   "codemirror_mode": {
    "name": "ipython",
    "version": 3
   },
   "file_extension": ".py",
   "mimetype": "text/x-python",
   "name": "python",
   "nbconvert_exporter": "python",
   "pygments_lexer": "ipython3",
   "version": "3.11.2"
  }
 },
 "nbformat": 4,
 "nbformat_minor": 2
}
